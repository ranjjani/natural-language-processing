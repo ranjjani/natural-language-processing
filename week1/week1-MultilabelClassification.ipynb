{
 "cells": [
  {
   "cell_type": "markdown",
   "metadata": {},
   "source": [
    "# Predict tags on StackOverflow with linear models"
   ]
  },
  {
   "cell_type": "markdown",
   "metadata": {},
   "source": [
    "### Text preprocessing"
   ]
  },
  {
   "cell_type": "code",
   "execution_count": 11,
   "metadata": {},
   "outputs": [
    {
     "name": "stdout",
     "output_type": "stream",
     "text": [
      "[nltk_data] Downloading package stopwords to\n",
      "[nltk_data]     /home/soumitra/nltk_data...\n",
      "[nltk_data]   Package stopwords is already up-to-date!\n"
     ]
    }
   ],
   "source": [
    "import nltk\n",
    "nltk.download('stopwords')\n",
    "from nltk.corpus import stopwords"
   ]
  },
  {
   "cell_type": "code",
   "execution_count": 12,
   "metadata": {},
   "outputs": [],
   "source": [
    "from ast import literal_eval\n",
    "import pandas as pd\n",
    "import numpy as np"
   ]
  },
  {
   "cell_type": "code",
   "execution_count": 13,
   "metadata": {},
   "outputs": [],
   "source": [
    "def read_data(filename):\n",
    "    data = pd.read_csv(filename, sep='\\t')\n",
    "    data['tags'] = data['tags'].apply(literal_eval)\n",
    "    return data"
   ]
  },
  {
   "cell_type": "code",
   "execution_count": 14,
   "metadata": {},
   "outputs": [],
   "source": [
    "train = read_data('data/train.tsv')\n",
    "validation = read_data('data/validation.tsv')\n",
    "test = pd.read_csv('data/test.tsv', sep='\\t')"
   ]
  },
  {
   "cell_type": "code",
   "execution_count": 15,
   "metadata": {},
   "outputs": [
    {
     "data": {
      "text/html": [
       "<div>\n",
       "<style scoped>\n",
       "    .dataframe tbody tr th:only-of-type {\n",
       "        vertical-align: middle;\n",
       "    }\n",
       "\n",
       "    .dataframe tbody tr th {\n",
       "        vertical-align: top;\n",
       "    }\n",
       "\n",
       "    .dataframe thead th {\n",
       "        text-align: right;\n",
       "    }\n",
       "</style>\n",
       "<table border=\"1\" class=\"dataframe\">\n",
       "  <thead>\n",
       "    <tr style=\"text-align: right;\">\n",
       "      <th></th>\n",
       "      <th>title</th>\n",
       "      <th>tags</th>\n",
       "    </tr>\n",
       "  </thead>\n",
       "  <tbody>\n",
       "    <tr>\n",
       "      <th>0</th>\n",
       "      <td>How to draw a stacked dotplot in R?</td>\n",
       "      <td>[r]</td>\n",
       "    </tr>\n",
       "    <tr>\n",
       "      <th>1</th>\n",
       "      <td>mysql select all records where a datetime fiel...</td>\n",
       "      <td>[php, mysql]</td>\n",
       "    </tr>\n",
       "    <tr>\n",
       "      <th>2</th>\n",
       "      <td>How to terminate windows phone 8.1 app</td>\n",
       "      <td>[c#]</td>\n",
       "    </tr>\n",
       "    <tr>\n",
       "      <th>3</th>\n",
       "      <td>get current time in a specific country via jquery</td>\n",
       "      <td>[javascript, jquery]</td>\n",
       "    </tr>\n",
       "    <tr>\n",
       "      <th>4</th>\n",
       "      <td>Configuring Tomcat to Use SSL</td>\n",
       "      <td>[java]</td>\n",
       "    </tr>\n",
       "  </tbody>\n",
       "</table>\n",
       "</div>"
      ],
      "text/plain": [
       "                                               title                  tags\n",
       "0                How to draw a stacked dotplot in R?                   [r]\n",
       "1  mysql select all records where a datetime fiel...          [php, mysql]\n",
       "2             How to terminate windows phone 8.1 app                  [c#]\n",
       "3  get current time in a specific country via jquery  [javascript, jquery]\n",
       "4                      Configuring Tomcat to Use SSL                [java]"
      ]
     },
     "execution_count": 15,
     "metadata": {},
     "output_type": "execute_result"
    }
   ],
   "source": [
    "train.head()"
   ]
  },
  {
   "cell_type": "code",
   "execution_count": 16,
   "metadata": {},
   "outputs": [
    {
     "name": "stdout",
     "output_type": "stream",
     "text": [
      "<class 'pandas.core.frame.DataFrame'>\n",
      "RangeIndex: 100000 entries, 0 to 99999\n",
      "Data columns (total 2 columns):\n",
      "title    100000 non-null object\n",
      "tags     100000 non-null object\n",
      "dtypes: object(2)\n",
      "memory usage: 1.5+ MB\n"
     ]
    }
   ],
   "source": [
    "train.info()"
   ]
  },
  {
   "cell_type": "markdown",
   "metadata": {},
   "source": [
    "As you can see, *title* column contains titles of the posts and *tags* column contains the tags. It could be noticed that a number of tags for a post is not fixed and could be as many as necessary."
   ]
  },
  {
   "cell_type": "markdown",
   "metadata": {},
   "source": [
    "For a more comfortable usage, initialize *X_train*, *X_val*, *X_test*, *y_train*, *y_val*."
   ]
  },
  {
   "cell_type": "code",
   "execution_count": 17,
   "metadata": {},
   "outputs": [],
   "source": [
    "X_train, y_train = train['title'].values, train['tags'].values\n",
    "X_val, y_val = validation['title'].values, validation['tags'].values\n",
    "X_test = test['title'].values"
   ]
  },
  {
   "cell_type": "code",
   "execution_count": 18,
   "metadata": {},
   "outputs": [
    {
     "data": {
      "text/plain": [
       "array(['How to draw a stacked dotplot in R?',\n",
       "       'mysql select all records where a datetime field is less than a specified value',\n",
       "       'How to terminate windows phone 8.1 app', ...,\n",
       "       'Python Pandas Series of Datetimes to Seconds Since the Epoch',\n",
       "       'jqGrid issue grouping - Duplicate rows get appended every time sort is changed',\n",
       "       'Create a List of primitive int?'], dtype=object)"
      ]
     },
     "execution_count": 18,
     "metadata": {},
     "output_type": "execute_result"
    }
   ],
   "source": [
    "X_train"
   ]
  },
  {
   "cell_type": "markdown",
   "metadata": {},
   "source": [
    "One of the most known difficulties when working with natural data is that it's unstructured. For example, if you use it \"as is\" and extract tokens just by splitting the titles by whitespaces, you will see that there are many \"weird\" tokens like *3.5?*, *\"Flip*, etc. To prevent the problems, it's usually useful to prepare the data somehow.\n"
   ]
  },
  {
   "cell_type": "code",
   "execution_count": 19,
   "metadata": {},
   "outputs": [],
   "source": [
    "import re"
   ]
  },
  {
   "cell_type": "code",
   "execution_count": 20,
   "metadata": {},
   "outputs": [],
   "source": [
    "REPLACE_BY_SPACE_RE = re.compile('[/(){}\\[\\]\\|@,;]')\n",
    "BAD_SYMBOLS_RE = re.compile('[^0-9a-z #+_]')\n",
    "STOPWORDS = set(stopwords.words('english'))\n",
    "\n",
    "def text_prepare(text):\n",
    "\n",
    "    text = text.lower()# lowercase text\n",
    "    text = re.sub(REPLACE_BY_SPACE_RE,\" \",text) # replace REPLACE_BY_SPACE_RE symbols by space in text\n",
    "    text = re.sub(BAD_SYMBOLS_RE,\"\",text)# delete symbols which are in BAD_SYMBOLS_RE from text\n",
    "    text = \" \".join([s for s in text.split(\" \") if s not in STOPWORDS])# delete stopwords from text\n",
    "    return text"
   ]
  },
  {
   "cell_type": "code",
   "execution_count": 21,
   "metadata": {},
   "outputs": [],
   "source": [
    "def test_text_prepare():\n",
    "    examples = [\"SQL Server - any equivalent of Excel's CHOOSE function?\",\n",
    "                \"How to free c++ memory vector<int> * arr?\"]\n",
    "    answers = [\"sql server equivalent excels choose function\", \n",
    "               \"free c++ memory vectorint arr\"]\n",
    "    for ex, ans in zip(examples, answers):\n",
    "        if text_prepare(ex) != ans:\n",
    "            return \"Wrong answer for the case: '%s'\" % ex\n",
    "    return 'Basic tests are passed.'"
   ]
  },
  {
   "cell_type": "code",
   "execution_count": 22,
   "metadata": {},
   "outputs": [
    {
     "name": "stdout",
     "output_type": "stream",
     "text": [
      "Wrong answer for the case: 'SQL Server - any equivalent of Excel's CHOOSE function?'\n"
     ]
    }
   ],
   "source": [
    "print(test_text_prepare())"
   ]
  },
  {
   "cell_type": "markdown",
   "metadata": {},
   "source": [
    "Now we can preprocess the titles using function *text_prepare* and  making sure that the headers don't have bad symbols:"
   ]
  },
  {
   "cell_type": "code",
   "execution_count": 23,
   "metadata": {},
   "outputs": [],
   "source": [
    "X_train = [text_prepare(x) for x in X_train]\n",
    "X_val = [text_prepare(x) for x in X_val]\n",
    "X_test = [text_prepare(x) for x in X_test]"
   ]
  },
  {
   "cell_type": "code",
   "execution_count": 24,
   "metadata": {},
   "outputs": [
    {
     "data": {
      "text/plain": [
       "['draw stacked dotplot r',\n",
       " 'mysql select records datetime field less specified value',\n",
       " 'terminate windows phone 81 app']"
      ]
     },
     "execution_count": 24,
     "metadata": {},
     "output_type": "execute_result"
    }
   ],
   "source": [
    "X_train[:3]"
   ]
  },
  {
   "cell_type": "markdown",
   "metadata": {},
   "source": [
    "For each tag and for each word calculate how many times they occur in the train corpus. \n"
   ]
  },
  {
   "cell_type": "code",
   "execution_count": 25,
   "metadata": {},
   "outputs": [
    {
     "data": {
      "text/plain": [
       "array([list(['r']), list(['php', 'mysql']), list(['c#']), ...,\n",
       "       list(['python', 'datetime', 'pandas']),\n",
       "       list(['javascript', 'jquery']), list(['java', 'list', 'generics'])],\n",
       "      dtype=object)"
      ]
     },
     "execution_count": 25,
     "metadata": {},
     "output_type": "execute_result"
    }
   ],
   "source": [
    "y_train"
   ]
  },
  {
   "cell_type": "code",
   "execution_count": 26,
   "metadata": {},
   "outputs": [
    {
     "data": {
      "text/plain": [
       "['draw', 'stacked', 'dotplot', 'r']"
      ]
     },
     "execution_count": 26,
     "metadata": {},
     "output_type": "execute_result"
    }
   ],
   "source": [
    "from nltk.tokenize.treebank import TreebankWordTokenizer\n",
    "twd = TreebankWordTokenizer()\n",
    "twd.tokenize(X_train[0])"
   ]
  },
  {
   "cell_type": "code",
   "execution_count": 27,
   "metadata": {},
   "outputs": [],
   "source": [
    "# Dictionary of all tags from train corpus with their counts.\n",
    "tags_counts = {}\n",
    "# Dictionary of all words from train corpus with their counts.\n",
    "words_counts = {}\n",
    "\n",
    "all_tags = []\n",
    "vocabulary=[]\n",
    "from collections import Counter\n",
    "from nltk.tokenize.treebank import TreebankWordTokenizer\n",
    "twd = TreebankWordTokenizer()\n",
    "\n",
    "for tag in y_train:\n",
    "    all_tags.extend(tag)\n",
    "\n",
    "for txt in X_train:\n",
    "    vocabulary.extend(twd.tokenize(txt))\n",
    "\n",
    "tags_counts = Counter(all_tags)\n",
    "words_counts = Counter(vocabulary)\n"
   ]
  },
  {
   "cell_type": "markdown",
   "metadata": {},
   "source": [
    "We are assuming that *tags_counts* and *words_counts* are dictionaries like `{'some_word_or_tag': frequency}`. After applying the sorting procedure, results will be look like this: `[('most_popular_word_or_tag', frequency), ('less_popular_word_or_tag', frequency), ...]"
   ]
  },
  {
   "cell_type": "markdown",
   "metadata": {},
   "source": [
    "### Transforming text to a vector\n",
    "\n",
    "Machine Learning algorithms work with numeric data and we cannot use the provided text data \"as is\". There are many ways to transform text data to numeric vectors. In this task you will try to use two of them.\n",
    "\n",
    "#### Bag of words\n",
    "\n",
    "One of the well-known approaches is a *bag-of-words* representation. To create this transformation, follow the steps:\n",
    "1. Find *N* most popular words in train corpus and numerate them. Now we have a dictionary of the most popular words.\n",
    "2. For each title in the corpora create a zero vector with the dimension equals to *N*.\n",
    "3. For each text in the corpora iterate over words which are in the dictionary and increase by 1 the corresponding coordinate.\n",
    "\n",
    "Let's try to do it for a toy example. Imagine that we have *N* = 4 and the list of the most popular words is \n",
    "\n",
    "    ['hi', 'you', 'me', 'are']\n",
    "\n",
    "Then we need to numerate them, for example, like this: \n",
    "\n",
    "    {'hi': 0, 'you': 1, 'me': 2, 'are': 3}\n",
    "\n",
    "And we have the text, which we want to transform to the vector:\n",
    "\n",
    "    'hi how are you'\n",
    "\n",
    "For this text we create a corresponding zero vector \n",
    "\n",
    "    [0, 0, 0, 0]\n",
    "    \n",
    "And iterate over all words, and if the word is in the dictionary, we increase the value of the corresponding position in the vector:\n",
    "\n",
    "    'hi':  [1, 0, 0, 0]\n",
    "    'how': [1, 0, 0, 0] # word 'how' is not in our dictionary\n",
    "    'are': [1, 0, 0, 1]\n",
    "    'you': [1, 1, 0, 1]\n",
    "\n",
    "The resulting vector will be \n",
    "\n",
    "    [1, 1, 0, 1]\n",
    "   \n",
    "Implement the described encoding in the function *my_bag_of_words* with the size of the dictionary equals to 5000. To find the most common words use train data. You can test your code using the function *test_my_bag_of_words*."
   ]
  },
  {
   "cell_type": "code",
   "execution_count": 26,
   "metadata": {},
   "outputs": [],
   "source": [
    "import operator\n",
    "\n",
    "TOP_WORDS=sorted_d = sorted(words_counts.items(), key=operator.itemgetter(1),reverse=True)[:5000]"
   ]
  },
  {
   "cell_type": "code",
   "execution_count": 27,
   "metadata": {},
   "outputs": [
    {
     "data": {
      "text/plain": [
       "[('using', 8278),\n",
       " ('c', 5800),\n",
       " ('php', 5614),\n",
       " ('java', 5501),\n",
       " ('file', 5055),\n",
       " ('javascript', 4746),\n",
       " ('#', 4522),\n",
       " ('error', 4390),\n",
       " ('get', 4301),\n",
       " ('python', 4073),\n",
       " ('string', 3655),\n",
       " ('array', 3535),\n",
       " ('data', 3298),\n",
       " ('jquery', 3293),\n",
       " ('value', 3176),\n",
       " ('function', 2896),\n",
       " ('object', 2654),\n",
       " ('class', 2558),\n",
       " ('use', 2422),\n",
       " ('c++', 2312),\n",
       " ('list', 2137),\n",
       " ('method', 2123),\n",
       " ('multiple', 2096),\n",
       " ('text', 1929),\n",
       " ('image', 1849),\n",
       " ('page', 1847),\n",
       " ('rails', 1778),\n",
       " ('form', 1776),\n",
       " ('create', 1760),\n",
       " ('html', 1716),\n",
       " ('type', 1699),\n",
       " ('code', 1664),\n",
       " ('set', 1640),\n",
       " ('working', 1636),\n",
       " ('database', 1631),\n",
       " ('add', 1611),\n",
       " ('convert', 1586),\n",
       " ('mysql', 1572),\n",
       " ('json', 1557),\n",
       " ('server', 1543),\n",
       " ('variable', 1542),\n",
       " ('android', 1530),\n",
       " ('values', 1528),\n",
       " ('aspnet', 1506),\n",
       " ('way', 1454),\n",
       " ('application', 1451),\n",
       " ('change', 1441),\n",
       " ('button', 1385),\n",
       " ('find', 1384),\n",
       " ('django', 1373),\n",
       " ('one', 1370),\n",
       " ('without', 1369),\n",
       " ('windows', 1339),\n",
       " ('not', 1314),\n",
       " ('can', 1314),\n",
       " ('table', 1274),\n",
       " ('call', 1261),\n",
       " ('files', 1249),\n",
       " ('ajax', 1248),\n",
       " ('check', 1223),\n",
       " ('time', 1213),\n",
       " ('name', 1174),\n",
       " ('two', 1169),\n",
       " ('ruby', 1164),\n",
       " ('getting', 1159),\n",
       " ('date', 1137),\n",
       " ('web', 1129),\n",
       " ('make', 1127),\n",
       " ('user', 1122),\n",
       " ('input', 1121),\n",
       " ('xml', 1119),\n",
       " ('app', 1116),\n",
       " ('another', 1115),\n",
       " ('element', 1107),\n",
       " ('custom', 1093),\n",
       " ('event', 1088),\n",
       " ('api', 1083),\n",
       " ('access', 1074),\n",
       " ('url', 1057),\n",
       " ('number', 1052),\n",
       " ('spring', 1019),\n",
       " ('view', 1004),\n",
       " ('sql', 1001),\n",
       " ('return', 983),\n",
       " ('mvc', 982),\n",
       " ('select', 980),\n",
       " ('google', 974),\n",
       " ('query', 972),\n",
       " ('inside', 947),\n",
       " ('exception', 944),\n",
       " ('display', 943),\n",
       " ('column', 941),\n",
       " ('read', 940),\n",
       " ('loop', 940),\n",
       " ('swift', 934),\n",
       " ('new', 932),\n",
       " ('remove', 931),\n",
       " ('work', 931),\n",
       " ('load', 912),\n",
       " ('r', 896),\n",
       " ('objects', 867),\n",
       " ('property', 866),\n",
       " ('line', 863),\n",
       " ('cant', 859),\n",
       " ('pass', 840),\n",
       " ('click', 837),\n",
       " ('net', 829),\n",
       " ('update', 822),\n",
       " ('framework', 822),\n",
       " ('script', 819),\n",
       " ('vs', 812),\n",
       " ('2', 806),\n",
       " ('post', 806),\n",
       " ('null', 797),\n",
       " ('creating', 794),\n",
       " ('request', 787),\n",
       " ('different', 785),\n",
       " ('field', 778),\n",
       " ('key', 776),\n",
       " ('run', 776),\n",
       " ('row', 769),\n",
       " ('doesnt', 768),\n",
       " ('ios', 763),\n",
       " ('service', 751),\n",
       " ('linq', 736),\n",
       " ('div', 733),\n",
       " ('open', 723),\n",
       " ('window', 720),\n",
       " ('project', 717),\n",
       " ('wpf', 713),\n",
       " ('best', 706),\n",
       " ('format', 706),\n",
       " ('show', 696),\n",
       " ('controller', 694),\n",
       " ('variables', 694),\n",
       " ('undefined', 693),\n",
       " ('dynamically', 691),\n",
       " ('specific', 691),\n",
       " ('adding', 675),\n",
       " ('based', 657),\n",
       " ('angularjs', 653),\n",
       " ('control', 649),\n",
       " ('parameter', 648),\n",
       " ('send', 647),\n",
       " ('model', 644),\n",
       " ('3', 643),\n",
       " ('library', 639),\n",
       " ('difference', 639),\n",
       " ('first', 636),\n",
       " ('insert', 636),\n",
       " ('passing', 635),\n",
       " ('vbnet', 635),\n",
       " ('js', 632),\n",
       " ('regex', 628),\n",
       " ('elements', 627),\n",
       " ('codeigniter', 625),\n",
       " ('within', 624),\n",
       " ('eclipse', 624),\n",
       " ('path', 623),\n",
       " ('dynamic', 618),\n",
       " ('visual', 611),\n",
       " ('memory', 606),\n",
       " ('connection', 604),\n",
       " ('possible', 602),\n",
       " ('id', 601),\n",
       " ('thread', 598),\n",
       " ('save', 592),\n",
       " ('default', 591),\n",
       " ('+', 591),\n",
       " ('via', 590),\n",
       " ('running', 587),\n",
       " ('size', 585),\n",
       " ('program', 584),\n",
       " ('found', 584),\n",
       " ('content', 582),\n",
       " ('reference', 581),\n",
       " ('issue', 576),\n",
       " ('attribute', 571),\n",
       " ('write', 571),\n",
       " ('studio', 570),\n",
       " ('laravel', 561),\n",
       " ('search', 543),\n",
       " ('test', 540),\n",
       " ('excel', 540),\n",
       " ('static', 539),\n",
       " ('session', 537),\n",
       " ('output', 535),\n",
       " ('http', 530),\n",
       " ('character', 529),\n",
       " ('characters', 529),\n",
       " ('entity', 525),\n",
       " ('current', 523),\n",
       " ('problem', 522),\n",
       " ('client', 520),\n",
       " ('calling', 520),\n",
       " ('empty', 519),\n",
       " ('int', 517),\n",
       " ('simple', 517),\n",
       " ('css', 516),\n",
       " ('upload', 515),\n",
       " ('parameters', 515),\n",
       " ('command', 510),\n",
       " ('1', 509),\n",
       " ('reading', 508),\n",
       " ('directory', 504),\n",
       " ('validation', 501),\n",
       " ('map', 496),\n",
       " ('hibernate', 495),\n",
       " ('selected', 493),\n",
       " ('textbox', 492),\n",
       " ('unable', 491),\n",
       " ('browser', 486),\n",
       " ('images', 484),\n",
       " ('item', 484),\n",
       " ('index', 482),\n",
       " ('link', 481),\n",
       " ('facebook', 477),\n",
       " ('expression', 475),\n",
       " ('setting', 474),\n",
       " ('store', 474),\n",
       " ('delete', 472),\n",
       " ('single', 469),\n",
       " ('like', 468),\n",
       " ('template', 468),\n",
       " ('statement', 463),\n",
       " ('strings', 462),\n",
       " ('rows', 461),\n",
       " ('failed', 461),\n",
       " ('replace', 460),\n",
       " ('header', 460),\n",
       " ('loading', 459),\n",
       " ('login', 454),\n",
       " ('box', 453),\n",
       " ('iphone', 452),\n",
       " ('4', 450),\n",
       " ('numbers', 449),\n",
       " ('color', 448),\n",
       " ('nested', 446),\n",
       " ('returning', 445),\n",
       " ('instance', 443),\n",
       " ('print', 443),\n",
       " ('background', 443),\n",
       " ('pdf', 441),\n",
       " ('char', 440),\n",
       " ('parse', 440),\n",
       " ('could', 439),\n",
       " ('disable', 438),\n",
       " ('bootstrap', 435),\n",
       " ('message', 434),\n",
       " ('module', 433),\n",
       " ('csv', 433),\n",
       " ('tag', 426),\n",
       " ('converting', 425),\n",
       " ('chrome', 424),\n",
       " ('x', 421),\n",
       " ('parent', 420),\n",
       " ('invalid', 418),\n",
       " ('returns', 416),\n",
       " ('local', 414),\n",
       " ('methods', 409),\n",
       " ('need', 407),\n",
       " ('connect', 404),\n",
       " ('email', 401),\n",
       " ('changing', 400),\n",
       " ('trying', 399),\n",
       " ('response', 397),\n",
       " ('functions', 396),\n",
       " ('install', 393),\n",
       " ('redirect', 390),\n",
       " ('angular', 387),\n",
       " ('order', 387),\n",
       " ('dictionary', 386),\n",
       " ('arrays', 385),\n",
       " ('dropdown', 384),\n",
       " ('classes', 383),\n",
       " ('folder', 381),\n",
       " ('generate', 381),\n",
       " ('submit', 380),\n",
       " ('bar', 380),\n",
       " ('pandas', 379),\n",
       " ('process', 377),\n",
       " ('columns', 376),\n",
       " ('source', 375),\n",
       " ('child', 375),\n",
       " ('checkbox', 375),\n",
       " ('integer', 371),\n",
       " ('count', 369),\n",
       " ('sending', 368),\n",
       " ('start', 368),\n",
       " ('items', 368),\n",
       " ('parsing', 368),\n",
       " ('detect', 365),\n",
       " ('double', 365),\n",
       " ('jsp', 363),\n",
       " ('hide', 363),\n",
       " ('fields', 363),\n",
       " ('datetime', 363),\n",
       " ('console', 362),\n",
       " ('gridview', 359),\n",
       " ('pointer', 359),\n",
       " ('selenium', 357),\n",
       " ('import', 356),\n",
       " ('7', 356),\n",
       " ('linux', 356),\n",
       " ('constructor', 355),\n",
       " ('random', 354),\n",
       " ('action', 353),\n",
       " ('programmatically', 353),\n",
       " ('collection', 350),\n",
       " ('instead', 347),\n",
       " ('version', 344),\n",
       " ('datagridview', 342),\n",
       " ('filter', 340),\n",
       " ('sort', 340),\n",
       " ('objectivec', 338),\n",
       " ('website', 336),\n",
       " ('generic', 335),\n",
       " ('last', 334),\n",
       " ('result', 334),\n",
       " ('build', 333),\n",
       " ('system', 332),\n",
       " ('download', 331),\n",
       " ('split', 330),\n",
       " ('properties', 330),\n",
       " ('back', 329),\n",
       " ('iframe', 329),\n",
       " ('nodejs', 329),\n",
       " ('interface', 329),\n",
       " ('binding', 328),\n",
       " ('cell', 328),\n",
       " ('arguments', 328),\n",
       " ('5', 327),\n",
       " ('datatable', 326),\n",
       " ('syntax', 326),\n",
       " ('xcode', 325),\n",
       " ('scroll', 325),\n",
       " ('onclick', 323),\n",
       " ('binary', 323),\n",
       " ('0', 321),\n",
       " ('external', 321),\n",
       " ('socket', 319),\n",
       " ('position', 319),\n",
       " ('include', 318),\n",
       " ('execute', 318),\n",
       " ('rest', 317),\n",
       " ('missing', 316),\n",
       " ('called', 316),\n",
       " ('word', 314),\n",
       " ('maps', 312),\n",
       " ('implement', 311),\n",
       " ('typeerror', 311),\n",
       " ('byte', 310),\n",
       " ('copy', 310),\n",
       " ('extension', 309),\n",
       " ('whats', 309),\n",
       " ('video', 308),\n",
       " ('refresh', 308),\n",
       " ('menu', 307),\n",
       " ('match', 306),\n",
       " ('argument', 304),\n",
       " ('node', 304),\n",
       " ('given', 304),\n",
       " ('wordpress', 303),\n",
       " ('retrieve', 300),\n",
       " ('regular', 296),\n",
       " ('accessing', 294),\n",
       " ('showing', 292),\n",
       " ('canvas', 292),\n",
       " ('forms', 292),\n",
       " ('document', 291),\n",
       " ('results', 290),\n",
       " ('ui', 289),\n",
       " ('runtime', 289),\n",
       " ('arraylist', 287),\n",
       " ('defined', 287),\n",
       " ('handle', 285),\n",
       " ('drop', 282),\n",
       " ('errors', 281),\n",
       " ('group', 281),\n",
       " ('apache', 281),\n",
       " ('large', 279),\n",
       " ('opencv', 277),\n",
       " ('compare', 277),\n",
       " ('height', 277),\n",
       " ('wcf', 277),\n",
       " ('address', 276),\n",
       " ('ie', 276),\n",
       " ('mobile', 276),\n",
       " ('many', 275),\n",
       " ('properly', 275),\n",
       " ('member', 274),\n",
       " ('equivalent', 274),\n",
       " ('screen', 273),\n",
       " ('8', 273),\n",
       " ('exists', 273),\n",
       " ('global', 272),\n",
       " ('password', 270),\n",
       " ('plugin', 270),\n",
       " ('expected', 269),\n",
       " ('jar', 268),\n",
       " ('vector', 268),\n",
       " ('events', 268),\n",
       " ('maven', 268),\n",
       " ('length', 267),\n",
       " ('types', 267),\n",
       " ('location', 267),\n",
       " ('numpy', 267),\n",
       " ('servlet', 267),\n",
       " ('writing', 267),\n",
       " ('extract', 266),\n",
       " ('html5', 266),\n",
       " ('stored', 265),\n",
       " ('width', 265),\n",
       " ('dataframe', 262),\n",
       " ('close', 262),\n",
       " ('dialog', 262),\n",
       " ('certain', 262),\n",
       " ('used', 261),\n",
       " ('help', 261),\n",
       " ('range', 260),\n",
       " ('style', 259),\n",
       " ('prevent', 258),\n",
       " ('names', 258),\n",
       " ('handling', 258),\n",
       " ('automatically', 257),\n",
       " ('works', 257),\n",
       " ('every', 256),\n",
       " ('resource', 256),\n",
       " ('magento', 256),\n",
       " ('tomcat', 255),\n",
       " ('cast', 255),\n",
       " ('fails', 255),\n",
       " ('warning', 254),\n",
       " ('created', 254),\n",
       " ('pattern', 254),\n",
       " ('frame', 253),\n",
       " ('popup', 253),\n",
       " ('wrong', 252),\n",
       " ('displaying', 251),\n",
       " ('validate', 251),\n",
       " ('contains', 251),\n",
       " ('enum', 251),\n",
       " ('updating', 249),\n",
       " ('qt', 249),\n",
       " ('curl', 248),\n",
       " ('package', 248),\n",
       " ('stop', 247),\n",
       " ('testing', 246),\n",
       " ('listview', 246),\n",
       " ('must', 246),\n",
       " ('operator', 245),\n",
       " ('space', 244),\n",
       " ('2d', 244),\n",
       " ('put', 243),\n",
       " ('authentication', 243),\n",
       " ('context', 243),\n",
       " ('conversion', 242),\n",
       " ('keys', 240),\n",
       " ('auto', 238),\n",
       " ('structure', 238),\n",
       " ('main', 237),\n",
       " ('callback', 237),\n",
       " ('saving', 236),\n",
       " ('exist', 236),\n",
       " ('token', 236),\n",
       " ('end', 236),\n",
       " ('long', 235),\n",
       " ('db', 235),\n",
       " ('problems', 235),\n",
       " ('tab', 235),\n",
       " ('foreach', 234),\n",
       " ('existing', 234),\n",
       " ('always', 232),\n",
       " ('dll', 232),\n",
       " ('block', 232),\n",
       " ('sorting', 231),\n",
       " ('grid', 231),\n",
       " ('finding', 231),\n",
       " ('matplotlib', 230),\n",
       " ('remote', 230),\n",
       " ('sqlite', 229),\n",
       " ('buttons', 229),\n",
       " ('option', 229),\n",
       " ('bind', 228),\n",
       " ('determine', 228),\n",
       " ('performance', 227),\n",
       " ('tags', 227),\n",
       " ('firefox', 227),\n",
       " ('stream', 227),\n",
       " ('modal', 227),\n",
       " ('plot', 226),\n",
       " ('label', 226),\n",
       " ('mac', 225),\n",
       " ('join', 224),\n",
       " ('uncaught', 224),\n",
       " ('combobox', 224),\n",
       " ('decimal', 224),\n",
       " ('example', 223),\n",
       " ('radio', 223),\n",
       " ('phone', 223),\n",
       " ('chart', 222),\n",
       " ('unexpected', 221),\n",
       " ('compile', 221),\n",
       " ('attributes', 221),\n",
       " ('dom', 219),\n",
       " ('correctly', 218),\n",
       " ('checking', 218),\n",
       " ('right', 217),\n",
       " ('installing', 214),\n",
       " ('point', 214),\n",
       " ('users', 214),\n",
       " ('base', 214),\n",
       " ('tables', 214),\n",
       " ('lines', 214),\n",
       " ('float', 213),\n",
       " ('mouse', 213),\n",
       " ('basic', 211),\n",
       " ('support', 211),\n",
       " ('struct', 210),\n",
       " ('tree', 209),\n",
       " ('hash', 208),\n",
       " ('making', 208),\n",
       " ('unit', 208),\n",
       " ('unique', 207),\n",
       " ('scope', 207),\n",
       " ('threads', 206),\n",
       " ('duplicate', 205),\n",
       " ('correct', 205),\n",
       " ('catch', 205),\n",
       " ('next', 204),\n",
       " ('handler', 204),\n",
       " ('already', 204),\n",
       " ('mean', 204),\n",
       " ('edit', 203),\n",
       " ('wont', 203),\n",
       " ('good', 203),\n",
       " ('even', 203),\n",
       " ('uitableview', 202),\n",
       " ('task', 202),\n",
       " ('removing', 202),\n",
       " ('admin', 202),\n",
       " ('matrix', 201),\n",
       " ('pages', 201),\n",
       " ('contents', 200),\n",
       " ('namespace', 200),\n",
       " ('valid', 200),\n",
       " ('graph', 199),\n",
       " ('dates', 199),\n",
       " ('lists', 198),\n",
       " ('encoding', 197),\n",
       " ('log', 197),\n",
       " ('debug', 197),\n",
       " ('const', 197),\n",
       " ('sdk', 197),\n",
       " ('case', 196),\n",
       " ('objective', 196),\n",
       " ('site', 196),\n",
       " ('calculate', 196),\n",
       " ('changes', 196),\n",
       " ('storing', 195),\n",
       " ('configuration', 195),\n",
       " ('programming', 195),\n",
       " ('side', 195),\n",
       " ('active', 195),\n",
       " ('full', 194),\n",
       " ('sum', 194),\n",
       " ('limit', 194),\n",
       " ('jpa', 193),\n",
       " ('keep', 193),\n",
       " ('listbox', 192),\n",
       " ('top', 192),\n",
       " ('animation', 190),\n",
       " ('implementation', 190),\n",
       " ('unicode', 189),\n",
       " ('append', 188),\n",
       " ('override', 188),\n",
       " ('mongodb', 187),\n",
       " ('winforms', 187),\n",
       " ('printing', 187),\n",
       " ('allow', 186),\n",
       " ('twitter', 186),\n",
       " ('part', 185),\n",
       " ('record', 185),\n",
       " ('resize', 184),\n",
       " ('utf8', 184),\n",
       " ('core', 184),\n",
       " ('lambda', 183),\n",
       " ('loaded', 183),\n",
       " ('security', 182),\n",
       " ('ip', 182),\n",
       " ('controls', 182),\n",
       " ('mail', 182),\n",
       " ('times', 181),\n",
       " ('play', 181),\n",
       " ('pdo', 180),\n",
       " ('layout', 178),\n",
       " ('selection', 177),\n",
       " ('async', 176),\n",
       " ('fatal', 176),\n",
       " ('game', 176),\n",
       " ('records', 175),\n",
       " ('language', 175),\n",
       " ('bean', 175),\n",
       " ('define', 175),\n",
       " ('webdriver', 174),\n",
       " ('cookie', 174),\n",
       " ('boolean', 174),\n",
       " ('switch', 174),\n",
       " ('constant', 173),\n",
       " ('outside', 173),\n",
       " ('draw', 173),\n",
       " ('gui', 172),\n",
       " ('cakephp', 172),\n",
       " ('domain', 172),\n",
       " ('force', 172),\n",
       " ('inserting', 171),\n",
       " ('unknown', 171),\n",
       " ('true', 171),\n",
       " ('assign', 169),\n",
       " ('wait', 169),\n",
       " ('false', 168),\n",
       " ('port', 168),\n",
       " ('mode', 168),\n",
       " ('named', 168),\n",
       " ('20', 168),\n",
       " ('slow', 168),\n",
       " ('multidimensional', 167),\n",
       " ('netbeans', 167),\n",
       " ('condition', 167),\n",
       " ('mapping', 167),\n",
       " ('requests', 167),\n",
       " ('issues', 167),\n",
       " ('available', 167),\n",
       " ('focus', 167),\n",
       " ('oracle', 167),\n",
       " ('state', 167),\n",
       " ('enable', 166),\n",
       " ('generated', 166),\n",
       " ('assembly', 165),\n",
       " ('ubuntu', 165),\n",
       " ('clicked', 164),\n",
       " ('device', 164),\n",
       " ('jdbc', 164),\n",
       " ('uploading', 164),\n",
       " ('gem', 163),\n",
       " ('populate', 163),\n",
       " ('yii', 163),\n",
       " ('soap', 162),\n",
       " ('specified', 162),\n",
       " ('swing', 162),\n",
       " ('special', 161),\n",
       " ('required', 161),\n",
       " ('engine', 161),\n",
       " ('initialize', 160),\n",
       " ('exceptions', 159),\n",
       " ('2010', 159),\n",
       " ('checked', 159),\n",
       " ('executing', 159),\n",
       " ('know', 159),\n",
       " ('6', 158),\n",
       " ('network', 158),\n",
       " ('bad', 158),\n",
       " ('native', 158),\n",
       " ('webservice', 157),\n",
       " ('tkinter', 157),\n",
       " ('avoid', 157),\n",
       " ('design', 157),\n",
       " ('javafx', 157),\n",
       " ('try', 157),\n",
       " ('timeout', 156),\n",
       " ('month', 156),\n",
       " ('export', 156),\n",
       " ('want', 155),\n",
       " ('trigger', 155),\n",
       " ('n', 155),\n",
       " ('404', 155),\n",
       " ('question', 155),\n",
       " ('move', 155),\n",
       " ('heroku', 155),\n",
       " ('efficient', 155),\n",
       " ('timer', 154),\n",
       " ('os', 154),\n",
       " ('10', 154),\n",
       " ('component', 154),\n",
       " ('dont', 154),\n",
       " ('stack', 154),\n",
       " ('iterate', 154),\n",
       " ('zend', 152),\n",
       " ('body', 152),\n",
       " ('words', 152),\n",
       " ('textarea', 151),\n",
       " ('implementing', 151),\n",
       " ('views', 151),\n",
       " ('linked', 150),\n",
       " ('compiler', 150),\n",
       " ('clicking', 150),\n",
       " ('symbol', 149),\n",
       " ('render', 148),\n",
       " ('root', 148),\n",
       " ('flask', 148),\n",
       " ('clear', 148),\n",
       " ('navigation', 148),\n",
       " ('symfony2', 147),\n",
       " ('datagrid', 147),\n",
       " ('second', 147),\n",
       " ('pointers', 146),\n",
       " ('fill', 146),\n",
       " ('route', 145),\n",
       " ('private', 145),\n",
       " ('particular', 145),\n",
       " ('procedure', 145),\n",
       " ('inheritance', 145),\n",
       " ('ssl', 145),\n",
       " ('declaration', 144),\n",
       " ('scrolling', 144),\n",
       " ('information', 144),\n",
       " ('rspec', 144),\n",
       " ('left', 144),\n",
       " ('status', 143),\n",
       " ('behind', 143),\n",
       " ('bytes', 143),\n",
       " ('fix', 142),\n",
       " ('services', 142),\n",
       " ('fetch', 142),\n",
       " ('spaces', 142),\n",
       " ('reflection', 142),\n",
       " ('calendar', 142),\n",
       " ('push', 142),\n",
       " ('algorithm', 141),\n",
       " ('alert', 141),\n",
       " ('xpath', 141),\n",
       " ('integers', 140),\n",
       " ('youtube', 140),\n",
       " ('apply', 140),\n",
       " ('cache', 140),\n",
       " ('development', 139),\n",
       " ('calls', 139),\n",
       " ('dependency', 139),\n",
       " ('maximum', 138),\n",
       " ('options', 138),\n",
       " ('hex', 138),\n",
       " ('max', 138),\n",
       " ('https', 138),\n",
       " ('usage', 137),\n",
       " ('previous', 137),\n",
       " ('environment', 137),\n",
       " ('target', 137),\n",
       " ('progress', 137),\n",
       " ('internet', 136),\n",
       " ('merge', 136),\n",
       " ('models', 136),\n",
       " ('comparing', 136),\n",
       " ('title', 136),\n",
       " ('practice', 136),\n",
       " ('changed', 135),\n",
       " ('headers', 135),\n",
       " ('driver', 134),\n",
       " ('boost', 133),\n",
       " ('notification', 133),\n",
       " ('libraries', 133),\n",
       " ('shared', 132),\n",
       " ('processing', 132),\n",
       " ('symfony', 132),\n",
       " ('tests', 132),\n",
       " ('panel', 132),\n",
       " ('opengl', 132),\n",
       " ('matching', 132),\n",
       " ('statements', 132),\n",
       " ('font', 132),\n",
       " ('apps', 132),\n",
       " ('installed', 131),\n",
       " ('comma', 131),\n",
       " ('public', 131),\n",
       " ('datepicker', 131),\n",
       " ('xaml', 131),\n",
       " ('resources', 130),\n",
       " ('icon', 130),\n",
       " ('standard', 130),\n",
       " ('separate', 130),\n",
       " ('links', 129),\n",
       " ('htaccess', 129),\n",
       " ('directive', 129),\n",
       " ('report', 129),\n",
       " ('abstract', 129),\n",
       " ('serialize', 128),\n",
       " ('debugging', 128),\n",
       " ('would', 128),\n",
       " ('hidden', 128),\n",
       " ('container', 128),\n",
       " ('asp', 128),\n",
       " ('logging', 128),\n",
       " ('better', 128),\n",
       " ('resolve', 128),\n",
       " ('autocomplete', 127),\n",
       " ('hashmap', 127),\n",
       " ('junit', 127),\n",
       " ('see', 127),\n",
       " ('ggplot2', 127),\n",
       " ('react', 127),\n",
       " ('configure', 127),\n",
       " ('alternative', 126),\n",
       " ('queries', 126),\n",
       " ('partial', 126),\n",
       " ('messages', 125),\n",
       " ('visible', 125),\n",
       " ('throws', 125),\n",
       " ('returned', 125),\n",
       " ('selecting', 125),\n",
       " ('echo', 125),\n",
       " ('something', 124),\n",
       " ('devise', 124),\n",
       " ('svg', 123),\n",
       " ('proxy', 123),\n",
       " ('keyboard', 123),\n",
       " ('generating', 123),\n",
       " ('declare', 123),\n",
       " ('checkboxes', 123),\n",
       " ('jtable', 122),\n",
       " ('take', 122),\n",
       " ('escape', 122),\n",
       " ('coordinates', 122),\n",
       " ('denied', 122),\n",
       " ('whether', 122),\n",
       " ('causes', 121),\n",
       " ('operation', 121),\n",
       " ('formatting', 121),\n",
       " ('virtual', 121),\n",
       " ('quotes', 121),\n",
       " ('reload', 120),\n",
       " ('extjs', 120),\n",
       " ('drawing', 120),\n",
       " ('setup', 120),\n",
       " ('jsf', 120),\n",
       " ('drag', 120),\n",
       " ('contain', 120),\n",
       " ('day', 120),\n",
       " ('product', 119),\n",
       " ('dataset', 119),\n",
       " ('shell', 119),\n",
       " ('dropdownlist', 118),\n",
       " ('queue', 118),\n",
       " ('webpage', 118),\n",
       " ('entities', 118),\n",
       " ('rendering', 118),\n",
       " ('machine', 118),\n",
       " ('applications', 118),\n",
       " ('twice', 118),\n",
       " ('strange', 118),\n",
       " ('intellij', 118),\n",
       " ('containing', 118),\n",
       " ('phonegap', 118),\n",
       " ('delegate', 118),\n",
       " ('cells', 118),\n",
       " ('execution', 117),\n",
       " ('inline', 117),\n",
       " ('per', 117),\n",
       " ('connecting', 117),\n",
       " ('gcc', 117),\n",
       " ('uiview', 116),\n",
       " ('razor', 116),\n",
       " ('level', 116),\n",
       " ('opening', 116),\n",
       " ('relationship', 116),\n",
       " ('ms', 116),\n",
       " ('blank', 116),\n",
       " ('conditional', 116),\n",
       " ('widget', 115),\n",
       " ('safe', 115),\n",
       " ('serialization', 115),\n",
       " ('internal', 115),\n",
       " ('modify', 115),\n",
       " ('relative', 115),\n",
       " ('gives', 115),\n",
       " ('etc', 115),\n",
       " ('initialization', 115),\n",
       " ('definition', 114),\n",
       " ('nodes', 114),\n",
       " ('timestamp', 114),\n",
       " ('capture', 114),\n",
       " ('jqgrid', 114),\n",
       " ('importing', 113),\n",
       " ('batch', 113),\n",
       " ('building', 113),\n",
       " ('compiling', 112),\n",
       " ('expressions', 112),\n",
       " ('retrieving', 112),\n",
       " ('else', 112),\n",
       " ('allowed', 112),\n",
       " ('numeric', 111),\n",
       " ('still', 111),\n",
       " ('tcp', 111),\n",
       " ('added', 111),\n",
       " ('year', 110),\n",
       " ('seconds', 110),\n",
       " ('selector', 110),\n",
       " ('sqlalchemy', 110),\n",
       " ('doctrine', 110),\n",
       " ('host', 110),\n",
       " ('highcharts', 109),\n",
       " ('href', 109),\n",
       " ('cookies', 109),\n",
       " ('boot', 109),\n",
       " ('foreign', 108),\n",
       " ('nsstring', 108),\n",
       " ('embedded', 107),\n",
       " ('config', 107),\n",
       " ('starting', 107),\n",
       " ('jackson', 107),\n",
       " ('annotation', 107),\n",
       " ('fast', 107),\n",
       " ('jframe', 107),\n",
       " ('injection', 106),\n",
       " ('section', 106),\n",
       " ('reset', 106),\n",
       " ('touch', 106),\n",
       " ('protocol', 106),\n",
       " ('firing', 106),\n",
       " ('ascii', 105),\n",
       " ('webbrowser', 105),\n",
       " ('closing', 105),\n",
       " ('points', 105),\n",
       " ('tabs', 105),\n",
       " ('jaxb', 105),\n",
       " ('hover', 104),\n",
       " ('overriding', 104),\n",
       " ('transaction', 104),\n",
       " ('postgresql', 104),\n",
       " ('sharepoint', 104),\n",
       " ('trouble', 104),\n",
       " ('labels', 104),\n",
       " ('passed', 104),\n",
       " ('cursor', 104),\n",
       " ('able', 103),\n",
       " ('gwt', 103),\n",
       " ('anchor', 103),\n",
       " ('assignment', 103),\n",
       " ('asynchronous', 103),\n",
       " ('replacing', 103),\n",
       " ('urls', 103),\n",
       " ('specify', 103),\n",
       " ('explorer', 103),\n",
       " ('localhost', 103),\n",
       " ('recursive', 103),\n",
       " ('sequence', 103),\n",
       " ('toggle', 102),\n",
       " ('fixed', 102),\n",
       " ('days', 102),\n",
       " ('deleting', 102),\n",
       " ('giving', 102),\n",
       " ('deploy', 102),\n",
       " ('restful', 102),\n",
       " ('fastest', 102),\n",
       " ('base64', 102),\n",
       " ('templates', 102),\n",
       " ('exit', 102),\n",
       " ('webview', 102),\n",
       " ('axis', 101),\n",
       " ('go', 101),\n",
       " ('v3', 101),\n",
       " ('nil', 101),\n",
       " ('osx', 100),\n",
       " ('500', 100),\n",
       " ('nhibernate', 100),\n",
       " ('enter', 100),\n",
       " ('vb', 100),\n",
       " ('proper', 100),\n",
       " ('activerecord', 100),\n",
       " ('digits', 100),\n",
       " ('moving', 100),\n",
       " ('faster', 99),\n",
       " ('ignore', 99),\n",
       " ('permission', 99),\n",
       " ('settings', 99),\n",
       " ('stl', 99),\n",
       " ('casting', 99),\n",
       " ('lock', 98),\n",
       " ('including', 98),\n",
       " ('loops', 98),\n",
       " ('border', 98),\n",
       " ('pagination', 98),\n",
       " ('mysqli', 98),\n",
       " ('declared', 97),\n",
       " ('caching', 97),\n",
       " ('sent', 97),\n",
       " ('real', 97),\n",
       " ('username', 97),\n",
       " ('activity', 97),\n",
       " ('s3', 97),\n",
       " ('effect', 97),\n",
       " ('serial', 97),\n",
       " ('incorrect', 97),\n",
       " ('across', 96),\n",
       " ('invoke', 96),\n",
       " ('uitableviewcell', 96),\n",
       " ('complex', 96),\n",
       " ('safari', 96),\n",
       " ('complete', 96),\n",
       " ('comparison', 96),\n",
       " ('increment', 95),\n",
       " ('audio', 95),\n",
       " ...]"
      ]
     },
     "execution_count": 27,
     "metadata": {},
     "output_type": "execute_result"
    }
   ],
   "source": [
    "TOP_WORDS"
   ]
  },
  {
   "cell_type": "code",
   "execution_count": 28,
   "metadata": {},
   "outputs": [],
   "source": [
    "import operator\n",
    "DICT_SIZE = 5000\n",
    "ALL_WORDS =[i for i,j in sorted(words_counts.items(), key=operator.itemgetter(1),reverse=True)[:5000]]\n",
    "\n",
    "WORDS_TO_INDEX = {}\n",
    "for count, word in enumerate(ALL_WORDS):\n",
    "    WORDS_TO_INDEX.update({word:count})\n",
    "    \n",
    "INDEX_TO_WORDS = dict((v,k) for k,v in WORDS_TO_INDEX.iteritems())\n",
    "#ALL_WORDS = WORDS_TO_INDEX.keys()\n",
    "\n",
    "def my_bag_of_words(text, words_to_index, dict_size):\n",
    "\n",
    "    result_vector = np.zeros(dict_size)\n",
    "    \n",
    "    for word in text.split():\n",
    "        if word in words_to_index.keys():\n",
    "            x= words_to_index[word]\n",
    "            result_vector[x]=1\n",
    "    return result_vector"
   ]
  },
  {
   "cell_type": "code",
   "execution_count": 29,
   "metadata": {},
   "outputs": [],
   "source": [
    "def test_my_bag_of_words():\n",
    "    words_to_index = {'hi': 0, 'you': 1, 'me': 2, 'are': 3}\n",
    "    examples = ['hi how are you']\n",
    "    answers = [[1, 1, 0, 1]]\n",
    "    for ex, ans in zip(examples, answers):\n",
    "        if (my_bag_of_words(ex, words_to_index, 4) != ans).any():\n",
    "            return \"Wrong answer for the case: '%s'\" % ex\n",
    "    return 'Basic tests are passed.'"
   ]
  },
  {
   "cell_type": "code",
   "execution_count": 30,
   "metadata": {},
   "outputs": [
    {
     "name": "stdout",
     "output_type": "stream",
     "text": [
      "Basic tests are passed.\n"
     ]
    }
   ],
   "source": [
    "print(test_my_bag_of_words())"
   ]
  },
  {
   "cell_type": "markdown",
   "metadata": {},
   "source": [
    "Now apply the implemented function to all samples (this might take up to a minute):"
   ]
  },
  {
   "cell_type": "code",
   "execution_count": 31,
   "metadata": {},
   "outputs": [],
   "source": [
    "from scipy import sparse as sp_sparse"
   ]
  },
  {
   "cell_type": "code",
   "execution_count": 32,
   "metadata": {},
   "outputs": [
    {
     "name": "stdout",
     "output_type": "stream",
     "text": [
      "('X_train shape ', (100000, 5000))\n",
      "('X_val shape ', (30000, 5000))\n",
      "('X_test shape ', (20000, 5000))\n"
     ]
    }
   ],
   "source": [
    "X_train_mybag = sp_sparse.vstack([sp_sparse.csr_matrix(my_bag_of_words(text, WORDS_TO_INDEX, DICT_SIZE)) for text in X_train])\n",
    "X_val_mybag = sp_sparse.vstack([sp_sparse.csr_matrix(my_bag_of_words(text, WORDS_TO_INDEX, DICT_SIZE)) for text in X_val])\n",
    "X_test_mybag = sp_sparse.vstack([sp_sparse.csr_matrix(my_bag_of_words(text, WORDS_TO_INDEX, DICT_SIZE)) for text in X_test])\n",
    "print('X_train shape ', X_train_mybag.shape)\n",
    "print('X_val shape ', X_val_mybag.shape)\n",
    "print('X_test shape ', X_test_mybag.shape)"
   ]
  },
  {
   "cell_type": "markdown",
   "metadata": {},
   "source": [
    "As you might notice, we transform the data to sparse representation, to store the useful information efficiently. There are many [types](https://docs.scipy.org/doc/scipy/reference/sparse.html) of such representations, however sklearn algorithms can work only with [csr](https://docs.scipy.org/doc/scipy/reference/generated/scipy.sparse.csr_matrix.html#scipy.sparse.csr_matrix) matrix, so we will use this one."
   ]
  },
  {
   "cell_type": "code",
   "execution_count": 34,
   "metadata": {},
   "outputs": [
    {
     "data": {
      "text/plain": [
       "(100000, 5000)"
      ]
     },
     "execution_count": 34,
     "metadata": {},
     "output_type": "execute_result"
    }
   ],
   "source": [
    "X_train_mybag.shape"
   ]
  },
  {
   "cell_type": "code",
   "execution_count": 35,
   "metadata": {},
   "outputs": [
    {
     "data": {
      "text/plain": [
       "array([0., 0., 0., ..., 0., 0., 0.])"
      ]
     },
     "execution_count": 35,
     "metadata": {},
     "output_type": "execute_result"
    }
   ],
   "source": [
    "row = X_train_mybag[10].toarray()[0]\n",
    "row"
   ]
  },
  {
   "cell_type": "code",
   "execution_count": 36,
   "metadata": {},
   "outputs": [],
   "source": [
    "row = X_train_mybag[10].toarray()[0]\n",
    "non_zero_elements_count = len(row[row != 0])\n"
   ]
  },
  {
   "cell_type": "markdown",
   "metadata": {},
   "source": [
    "#### TF-IDF\n",
    "\n",
    "The second approach extends the bag-of-words framework by taking into account total frequencies of words in the corpora. It helps to penalize too frequent words and provide better features space. \n",
    "\n",
    "Implement function *tfidf_features* using class [TfidfVectorizer](http://scikit-learn.org/stable/modules/generated/sklearn.feature_extraction.text.TfidfVectorizer.html) from *scikit-learn*. Use *train* corpus to train a vectorizer. Don't forget to take a look into the arguments that you can pass to it. We suggest that you filter out too rare words (occur less than in 5 titles) and too frequent words (occur more than in 90% of the titles). Also, use bigrams along with unigrams in your vocabulary. "
   ]
  },
  {
   "cell_type": "code",
   "execution_count": 37,
   "metadata": {},
   "outputs": [],
   "source": [
    "from sklearn.feature_extraction.text import TfidfVectorizer"
   ]
  },
  {
   "cell_type": "code",
   "execution_count": 65,
   "metadata": {},
   "outputs": [],
   "source": [
    "def tfidf_features(X_train, X_val, X_test):\n",
    "   \n",
    "    \n",
    "    # Fit the vectorizer on the train set\n",
    "    # Transform the train, test, and val sets and return the result\n",
    "    \n",
    "    \n",
    "    tfidf_vectorizer = TfidfVectorizer(token_pattern = '(\\S+)') # we want c++ or c# to be there\n",
    "    X_train = tfidf_vectorizer.fit_transform(X_train)\n",
    "    X_val = tfidf_vectorizer.transform(X_val)\n",
    "    X_test = tfidf_vectorizer.transform(X_test)\n",
    "\n",
    "    return X_train, X_val, X_test, tfidf_vectorizer.vocabulary_"
   ]
  },
  {
   "cell_type": "markdown",
   "metadata": {},
   "source": [
    "Once you have done text preprocessing, always have a look at the results. Be very careful at this step, because the performance of future models will drastically depend on it. \n",
    "\n",
    "In this case, check whether you have c++ or c# in your vocabulary, as they are obviously important tokens in our tags prediction task:"
   ]
  },
  {
   "cell_type": "code",
   "execution_count": 66,
   "metadata": {},
   "outputs": [],
   "source": [
    "X_train_tfidf, X_val_tfidf, X_test_tfidf, tfidf_vocab = tfidf_features(X_train, X_val, X_test)\n",
    "tfidf_reversed_vocab = {i:word for word,i in tfidf_vocab.items()}"
   ]
  },
  {
   "cell_type": "code",
   "execution_count": 67,
   "metadata": {},
   "outputs": [
    {
     "data": {
      "text/plain": [
       "<30000x31497 sparse matrix of type '<type 'numpy.float64'>'\n",
       "\twith 161470 stored elements in Compressed Sparse Row format>"
      ]
     },
     "execution_count": 67,
     "metadata": {},
     "output_type": "execute_result"
    }
   ],
   "source": [
    "X_val_tfidf"
   ]
  },
  {
   "cell_type": "code",
   "execution_count": 68,
   "metadata": {},
   "outputs": [
    {
     "data": {
      "text/plain": [
       "True"
      ]
     },
     "execution_count": 68,
     "metadata": {},
     "output_type": "execute_result"
    }
   ],
   "source": [
    "'c++' in tfidf_vocab # however we need to it,\n",
    " #Get back to the function above and use '(\\S+)' regexp as a token_pattern \n",
    "#in the constructor of the vectorizer."
   ]
  },
  {
   "cell_type": "markdown",
   "metadata": {},
   "source": [
    "### MultiLabel classifier\n",
    "\n",
    "As we have noticed before, in this task each example can have multiple tags. To deal with such kind of prediction, we need to transform labels in a binary form and the prediction will be a mask of 0s and 1s. For this purpose it is convenient to use [MultiLabelBinarizer](http://scikit-learn.org/stable/modules/generated/sklearn.preprocessing.MultiLabelBinarizer.html) from *sklearn*."
   ]
  },
  {
   "cell_type": "code",
   "execution_count": 77,
   "metadata": {},
   "outputs": [],
   "source": [
    "from sklearn.preprocessing import MultiLabelBinarizer"
   ]
  },
  {
   "cell_type": "code",
   "execution_count": 78,
   "metadata": {},
   "outputs": [],
   "source": [
    "mlb = MultiLabelBinarizer(classes=sorted(tags_counts.keys()))\n",
    "y_train = mlb.fit_transform(y_train)\n",
    "y_val = mlb.fit_transform(y_val)"
   ]
  },
  {
   "cell_type": "markdown",
   "metadata": {},
   "source": [
    "Implement the function *train_classifier* for training a classifier. In this task we suggest to use One-vs-Rest approach, which is implemented in [OneVsRestClassifier](http://scikit-learn.org/stable/modules/generated/sklearn.multiclass.OneVsRestClassifier.html) class. In this approach *k* classifiers (= number of tags) are trained. As a basic classifier, use [LogisticRegression](http://scikit-learn.org/stable/modules/generated/sklearn.linear_model.LogisticRegression.html). It is one of the simplest methods, but often it performs good enough in text classification tasks. It might take some time, because a number of classifiers to train is large."
   ]
  },
  {
   "cell_type": "code",
   "execution_count": 79,
   "metadata": {},
   "outputs": [],
   "source": [
    "from sklearn.multiclass import OneVsRestClassifier\n",
    "from sklearn.linear_model import LogisticRegression, RidgeClassifier"
   ]
  },
  {
   "cell_type": "code",
   "execution_count": 80,
   "metadata": {},
   "outputs": [],
   "source": [
    "def train_classifier(X_train, y_train):\n",
    "    \n",
    "    model = OneVsRestClassifier(LogisticRegression(random_state=0)).fit(X_train, y_train)\n",
    "    \n",
    "    return model\n",
    "        "
   ]
  },
  {
   "cell_type": "markdown",
   "metadata": {},
   "source": [
    "Train the classifiers for different data transformations: *bag-of-words* and *tf-idf*."
   ]
  },
  {
   "cell_type": "code",
   "execution_count": 81,
   "metadata": {},
   "outputs": [],
   "source": [
    "classifier_mybag = train_classifier(X_train_mybag, y_train)\n",
    "classifier_tfidf = train_classifier(X_train_tfidf, y_train)"
   ]
  },
  {
   "cell_type": "markdown",
   "metadata": {},
   "source": [
    "Now you can create predictions for the data. You will need two types of predictions: labels and scores."
   ]
  },
  {
   "cell_type": "code",
   "execution_count": 82,
   "metadata": {},
   "outputs": [],
   "source": [
    "y_val_predicted_labels_mybag = classifier_mybag.predict(X_val_mybag)\n",
    "y_val_predicted_scores_mybag = classifier_mybag.decision_function(X_val_mybag)\n",
    "\n",
    "y_val_predicted_labels_tfidf = classifier_tfidf.predict(X_val_tfidf)\n",
    "y_val_predicted_scores_tfidf = classifier_tfidf.decision_function(X_val_tfidf)"
   ]
  },
  {
   "cell_type": "markdown",
   "metadata": {},
   "source": [
    "Now take a look at how classifier, which uses TF-IDF, works for a few examples:"
   ]
  },
  {
   "cell_type": "code",
   "execution_count": 83,
   "metadata": {},
   "outputs": [
    {
     "name": "stdout",
     "output_type": "stream",
     "text": [
      "Title:\todbc_exec always fail\n",
      "True labels:\tphp,sql\n",
      "Predicted labels:\t\n",
      "\n",
      "\n",
      "Title:\taccess base classes variable within child class\n",
      "True labels:\tjavascript\n",
      "Predicted labels:\tclass\n",
      "\n",
      "\n",
      "Title:\tcontenttype application json required rails\n",
      "True labels:\truby,ruby-on-rails\n",
      "Predicted labels:\tjson,ruby-on-rails\n",
      "\n",
      "\n"
     ]
    }
   ],
   "source": [
    "y_val_pred_inversed = mlb.inverse_transform(y_val_predicted_labels_tfidf)\n",
    "y_val_inversed = mlb.inverse_transform(y_val)\n",
    "for i in range(3):\n",
    "    print('Title:\\t{}\\nTrue labels:\\t{}\\nPredicted labels:\\t{}\\n\\n'.format(\n",
    "        X_val[i],\n",
    "        ','.join(y_val_inversed[i]),\n",
    "        ','.join(y_val_pred_inversed[i])\n",
    "    ))"
   ]
  },
  {
   "cell_type": "markdown",
   "metadata": {},
   "source": [
    "Now, we would need to compare the results of different predictions, e.g. to see whether TF-IDF transformation helps or to try different regularization techniques in logistic regression. For all these experiments, we need to setup evaluation procedure. "
   ]
  },
  {
   "cell_type": "markdown",
   "metadata": {},
   "source": [
    "### Evaluation\n",
    "\n",
    "To evaluate the results we will use several classification metrics:\n",
    " - [Accuracy](http://scikit-learn.org/stable/modules/generated/sklearn.metrics.accuracy_score.html)\n",
    " - [F1-score](http://scikit-learn.org/stable/modules/generated/sklearn.metrics.f1_score.html)\n",
    " - [Area under ROC-curve](http://scikit-learn.org/stable/modules/generated/sklearn.metrics.roc_auc_score.html)\n",
    " - [Area under precision-recall curve](http://scikit-learn.org/stable/modules/generated/sklearn.metrics.average_precision_score.html#sklearn.metrics.average_precision_score) \n",
    " "
   ]
  },
  {
   "cell_type": "code",
   "execution_count": 84,
   "metadata": {},
   "outputs": [],
   "source": [
    "from sklearn.metrics import accuracy_score\n",
    "from sklearn.metrics import f1_score\n",
    "from sklearn.metrics import roc_auc_score \n",
    "from sklearn.metrics import average_precision_score\n",
    "from sklearn.metrics import recall_score"
   ]
  },
  {
   "cell_type": "markdown",
   "metadata": {},
   "source": [
    "Implement the function *print_evaluation_scores* which calculates and prints to stdout:\n",
    " - *accuracy*\n",
    " - *F1-score macro/micro/weighted*\n",
    " - *Precision macro/micro/weighted*"
   ]
  },
  {
   "cell_type": "code",
   "execution_count": 91,
   "metadata": {},
   "outputs": [
    {
     "name": "stdout",
     "output_type": "stream",
     "text": [
      "\n"
     ]
    }
   ],
   "source": [
    "def print_evaluation_scores(y_val, predicted):\n",
    "    \n",
    "    print \"Accuracy\",accuracy_score(y_val, predicted)\n",
    "    print \"F1 Score\",f1_score(y_val, predicted, average='macro')\n",
    "    print \"Average Precision\",average_precision_score(y_val, predicted, average='macro') \n",
    "    \n",
    "    ######################################\n",
    "    ######### YOUR CODE HERE #############\n",
    "    ######################################"
   ]
  },
  {
   "cell_type": "code",
   "execution_count": 92,
   "metadata": {},
   "outputs": [
    {
     "name": "stdout",
     "output_type": "stream",
     "text": [
      "Bag-of-words\n",
      "Accuracy 0.3521666666666667\n",
      "F1 Score 0.5060402133065638\n",
      "Average Precision 0.34693305967002275\n",
      "Tfidf\n",
      "Accuracy 0.33626666666666666\n",
      "F1 Score 0.4598657061568162\n",
      "Average Precision 0.3115844561793255\n"
     ]
    }
   ],
   "source": [
    "print('Bag-of-words')\n",
    "print_evaluation_scores(y_val, y_val_predicted_labels_mybag)\n",
    "print('Tfidf')\n",
    "print_evaluation_scores(y_val, y_val_predicted_labels_tfidf)"
   ]
  },
  {
   "cell_type": "markdown",
   "metadata": {},
   "source": [
    "You might also want to plot some generalization of the [ROC curve](http://scikit-learn.org/stable/modules/model_evaluation.html#receiver-operating-characteristic-roc) for the case of multi-label classification. Provided function *roc_auc* can make it for you. The input parameters of this function are:\n",
    " - true labels\n",
    " - decision functions scores\n",
    " - number of classes"
   ]
  },
  {
   "cell_type": "code",
   "execution_count": 93,
   "metadata": {},
   "outputs": [],
   "source": [
    "from metrics import roc_auc\n",
    "%matplotlib inline"
   ]
  },
  {
   "cell_type": "code",
   "execution_count": 94,
   "metadata": {},
   "outputs": [
    {
     "data": {
      "image/png": "[encoded data removed]",
      "text/plain": [
       "<matplotlib.figure.Figure at 0x7fe808f0bd90>"
      ]
     },
     "metadata": {},
     "output_type": "display_data"
    }
   ],
   "source": [
    "n_classes = len(tags_counts)\n",
    "roc_auc(y_val, y_val_predicted_scores_mybag, n_classes)"
   ]
  },
  {
   "cell_type": "code",
   "execution_count": 95,
   "metadata": {},
   "outputs": [
    {
     "data": {
      "image/png": "[encoded data removed]",
      "text/plain": [
       "<matplotlib.figure.Figure at 0x7fe80ae50990>"
      ]
     },
     "metadata": {},
     "output_type": "display_data"
    }
   ],
   "source": [
    "n_classes = len(tags_counts)\n",
    "roc_auc(y_val, y_val_predicted_scores_tfidf, n_classes)"
   ]
  }
 ],
 "metadata": {
  "kernelspec": {
   "display_name": "Python 2",
   "language": "python",
   "name": "python2"
  },
  "language_info": {
   "codemirror_mode": {
    "name": "ipython",
    "version": 2
   },
   "file_extension": ".py",
   "mimetype": "text/x-python",
   "name": "python",
   "nbconvert_exporter": "python",
   "pygments_lexer": "ipython2",
   "version": "2.7.12"
  }
 },
 "nbformat": 4,
 "nbformat_minor": 2
}
